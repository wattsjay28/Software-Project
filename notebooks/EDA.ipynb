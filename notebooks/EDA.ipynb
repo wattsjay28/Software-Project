{
 "cells": [
  {
   "cell_type": "markdown",
   "metadata": {},
   "source": [
    "## Introduction\n",
    "    This analysis explores a dataset containing information about vehicles listed for sale in the US.  # type: ignore\n",
    "    Lets perform a brief data cleaning, visualization, and comparisons between different manufacturers. # type: ignore"
   ]
  },
  {
   "cell_type": "code",
   "execution_count": null,
   "metadata": {},
   "outputs": [],
   "source": [
    "import pandas as pd\n",
    "import streamlit as st\n",
    "import warnings\n",
    "import altair as alt"
   ]
  },
  {
   "cell_type": "markdown",
   "metadata": {},
   "source": [
    "## This snippet imports essential libraries for data analysis and interactive visualization. It sets the foundation for creating a Streamlit web application that will likely involve loading and manipulating data with pandas, creating interactive elements with Streamlit, suppressing warnings with the warnings module, and generating visualizations using Altair."
   ]
  },
  {
   "cell_type": "code",
   "execution_count": 2,
   "metadata": {},
   "outputs": [],
   "source": [
    "# Load the dataset into a DataFrame\n",
    "data = pd.read_csv(\"vehicles_us.csv\")\n",
    "\n",
    "# Remove Warnings\n",
    "warnings.filterwarnings('ignore')"
   ]
  },
  {
   "cell_type": "code",
   "execution_count": 3,
   "metadata": {},
   "outputs": [],
   "source": [
    "# Replace NaN values in the 'price' column with the median of the column\n",
    "median_price = data['price'].median()\n",
    "data['price'].fillna(median_price, inplace=True)\n",
    "\n",
    "# Replace NaN values in the 'model_year' column with the median of the column\n",
    "median_model_year = data['model_year'].median()\n",
    "data['model_year'].fillna(median_model_year, inplace=True)\n",
    "\n",
    "# Replace missing values in 'cylinders' with the median\n",
    "median_cylinders = data['cylinders'].median()\n",
    "data['cylinders'].fillna(median_cylinders, inplace=True)\n",
    "\n",
    "# Replace missing values in 'odometer' with the median\n",
    "median_odometer = data['odometer'].median()\n",
    "data['odometer'].fillna(median_odometer, inplace=True)\n",
    "\n",
    "# Replace missing values in 'is_4wd' with the mode\n",
    "mode_4wd = data['is_4wd'].mode()[0]\n",
    "data['is_4wd'].fillna(mode_4wd, inplace=True)\n",
    "\n",
    "# Replace missing values in 'paint_color' with the mode\n",
    "mode_paint_color = data['paint_color'].mode()[0]\n",
    "data['paint_color'].fillna(mode_paint_color, inplace=True)"
   ]
  },
  {
   "cell_type": "markdown",
   "metadata": {},
   "source": [
    "## Data Preprocessing:\n",
    "This section handles missing values in the dataset by employing various imputation techniques. Missing values in numerical columns like 'price', 'model_year', 'cylinders', and 'odometer' are filled with the respective column medians to maintain statistical integrity. Categorical columns 'is_4wd' and 'paint_color' are imputed with the mode, ensuring completeness in these attributes. This preprocessing step prepares the data for further analysis and modeling."
   ]
  },
  {
   "cell_type": "code",
   "execution_count": 4,
   "metadata": {},
   "outputs": [],
   "source": [
    "# List of car manufacturers\n",
    "Manufacturers = [\n",
    "    'Acura', 'BMW', 'Buick', 'Cadillac', 'Chevrolet', 'Chrysler', 'Dodge', \n",
    "    'Ford', 'GMC', 'Honda', 'Hyundai', 'Jeep', 'Kia', 'Mercedes-Benz', \n",
    "    'Nissan', 'Ram', 'Subaru', 'Toyota', 'Volkswagen'\n",
    "]\n",
    "\n",
    "# Function to extract manufacturer name from model\n",
    "def extract_manufacturer(model):\n",
    "    for manufacturer in Manufacturers:\n",
    "        if manufacturer.lower() in model.lower():\n",
    "            return manufacturer\n",
    "    return None\n",
    "\n",
    "# Create a new column \"Manufacturer\" and extract manufacturer names\n",
    "data['Manufacturer'] = data['model'].apply(extract_manufacturer)\n",
    "\n",
    "# Remove manufacturer names from \"model\" column\n",
    "data['model'] = data['model'].apply(lambda x: ' '.join(word for word in x.split() if word.lower() not in Manufacturers))\n",
    "\n",
    "# Group by Manufacturer and Vehicle Type, and count the number of vehicles for each combination\n",
    "Manufacturers_type_counts = data.groupby(['Manufacturer', 'type']).size().unstack(fill_value=0)\n",
    "\n",
    "# List of words to remove from the \"model\" column\n",
    "words_to_remove = ['bmw', 'honda', 'kia', 'gmc', 'jeep', 'chevrolet', 'toyota', 'subaru',\n",
    "                   'nissan', 'ford', 'hyundai', 'cadillac', 'buick', 'ram', 'dodge',\n",
    "                   'acura', 'chrysler', 'volkswagen', 'mercedes-benz']\n",
    "\n",
    "# Remove specified words from the \"model\" column\n",
    "data['model'] = data['model'].apply(lambda x: ' '.join(word for word in x.split() if word.lower() not in words_to_remove))\n",
    "\n",
    "# Identify unique manufacturers present in the data\n",
    "unique_models = data['model'].str.lower().unique()\n",
    "unique_manufacturers = set()\n",
    "for model in unique_models:\n",
    "    for manufacturer in Manufacturers:\n",
    "        if manufacturer.lower() in model:\n",
    "            unique_manufacturers.add(manufacturer)\n",
    "\n",
    "# Update manufacturer list\n",
    "Manufacturers += list(unique_manufacturers)\n",
    "\n",
    "# Remove duplicates and sort the list\n",
    "Manufacturers = sorted(list(set(Manufacturers)))\n",
    "\n",
    "# Group by Manufacturer and Vehicle Type, and count the number of vehicles for each combination\n",
    "manufacturers_type_counts = data.groupby(['Manufacturer', 'type']).size().unstack(fill_value=0)"
   ]
  },
  {
   "cell_type": "markdown",
   "metadata": {},
   "source": [
    "## Streamlining Car Manufacturer Data:\n",
    "\n",
    "This section focuses on standardizing and organizing data related to car manufacturers. It begins by creating a comprehensive list of known manufacturers. Then, it utilizes a function to extract manufacturer names from the vehicle model strings, creating a new column named 'Manufacturer' to store these extracted names. The 'model' column is subsequently cleaned to remove manufacturer names, ensuring data consistency. Grouping the data by manufacturer and vehicle type, it counts the number of vehicles for each combination. Further refinement involves removing additional manufacturer names from the 'model' column and identifying unique manufacturers to update the manufacturer list. Finally, the data is grouped again by manufacturer and vehicle type to reflect the applied updates."
   ]
  },
  {
   "cell_type": "code",
   "execution_count": 5,
   "metadata": {},
   "outputs": [
    {
     "name": "stderr",
     "output_type": "stream",
     "text": [
      "2024-05-12 15:29:52.677 \n",
      "  \u001b[33m\u001b[1mWarning:\u001b[0m to view this Streamlit app on a browser, run it with the following\n",
      "  command:\n",
      "\n",
      "    streamlit run c:\\Users\\watts\\OneDrive\\Desktop\\Software-Project\\my_venv\\Lib\\site-packages\\ipykernel_launcher.py [ARGUMENTS]\n",
      "2024-05-12 15:29:52.766 Session state does not function when running a script without `streamlit run`\n"
     ]
    },
    {
     "data": {
      "text/plain": [
       "DeltaGenerator()"
      ]
     },
     "execution_count": 5,
     "metadata": {},
     "output_type": "execute_result"
    }
   ],
   "source": [
    "# Streamlit Header\n",
    "st.title(\"Exploratory Data Analysis\")\n",
    "\n",
    "# Checkbox to include manufacturers with less than 1000 ads\n",
    "include_less_than_1000 = st.checkbox(\"Include manufacturers with less than 1000 ads\")\n",
    "\n",
    "# Filter data based on checkbox selection\n",
    "if not include_less_than_1000:\n",
    "    # Count number of ads per manufacturer\n",
    "    manufacturer_counts = data['Manufacturer'].value_counts()\n",
    "    # Filter out manufacturers with less than 1000 ads\n",
    "    included_manufacturers = manufacturer_counts[manufacturer_counts >= 1000].index\n",
    "    data_filtered = data[data['Manufacturer'].isin(included_manufacturers)]\n",
    "else:\n",
    "    data_filtered = data\n",
    "\n",
    "# Display the filtered data table\n",
    "st.subheader(\"Data Viewer\")\n",
    "st.dataframe(data_filtered)\n",
    "\n",
    "# Select a manufacturer\n",
    "selected_manufacturer = st.selectbox(\"Select a manufacturer\", Manufacturers)\n",
    "\n",
    "# Filter data based on selected manufacturer\n",
    "manufacturer_data = manufacturers_type_counts.loc[selected_manufacturer]\n",
    "\n",
    "# Reset index for Altair plot\n",
    "manufacturer_data = manufacturer_data.reset_index()\n",
    "\n",
    "# Altair bar chart\n",
    "chart = alt.Chart(manufacturer_data).mark_bar().encode(\n",
    "    x='type',\n",
    "    y=alt.Y(selected_manufacturer + ':Q', title='Count'),  # Use selected manufacturer as field name\n",
    "    tooltip=['type', selected_manufacturer]  # Include manufacturer name in tooltip\n",
    ").properties(\n",
    "    title=f\"Vehicle Types by Manufacturer: {selected_manufacturer}\",\n",
    "    width=600,\n",
    "    height=400\n",
    ")\n",
    "st.altair_chart(chart, use_container_width=True)\n",
    "\n",
    "# Streamlit Header\n",
    "st.title(\"Histogram of Condition vs Model Year\")\n",
    "\n",
    "# Create a chart using Altair\n",
    "chart = alt.Chart(data).mark_bar().encode(\n",
    "    x=alt.X('model_year:O', title='Model Year'),\n",
    "    y=alt.Y('count()', title='Frequency'),\n",
    "    color='condition:N',\n",
    "    tooltip=['model_year', 'condition', 'count()']\n",
    ").properties(\n",
    "    width=600,\n",
    "    height=400,\n",
    "    title=\"Histogram of Condition vs Model Year\"\n",
    ")\n",
    "\n",
    "# Show the chart\n",
    "st.altair_chart(chart, use_container_width=True)\n",
    "\n",
    "\n",
    "# Streamlit Header\n",
    "st.title(\"Price Distribution Comparison Between Manufacturers\")\n",
    "\n",
    "# Create select boxes for choosing manufacturers\n",
    "manufacturer1 = st.selectbox(\"Select Manufacturer 1\", sorted(data['Manufacturer'].unique()))\n",
    "manufacturer2 = st.selectbox(\"Select Manufacturer 2\", sorted(data['Manufacturer'].unique()))\n",
    "\n",
    "# Filter the data for the selected manufacturers\n",
    "filtered_data = data[(data['Manufacturer'] == manufacturer1) | (data['Manufacturer'] == manufacturer2)]\n",
    "\n",
    "# Group the filtered data by Manufacturer and calculate the mean price\n",
    "grouped_data = filtered_data.groupby('Manufacturer')['price'].mean().reset_index()\n",
    "\n",
    "# Create a checkbox for normalization\n",
    "normalize = st.checkbox(\"Normalize Histogram\")\n",
    "\n",
    "if normalize:\n",
    "    # Calculate the total price\n",
    "    total_price = grouped_data['price'].sum()\n",
    "\n",
    "    # Calculate the percentage of the total price for each manufacturer\n",
    "    grouped_data['percentage'] = grouped_data['price'] / total_price * 100\n",
    "    y_title = 'Percentage'\n",
    "else:\n",
    "    y_title = 'Price'\n",
    "\n",
    "# Create a bar chart using Altair\n",
    "chart = alt.Chart(grouped_data).mark_bar().encode(\n",
    "    y='Manufacturer:N',\n",
    "    x=alt.X('percentage:Q' if normalize else 'price:Q', title=y_title),\n",
    "    color=alt.Color('Manufacturer:N', scale=alt.Scale(scheme='category10'), legend=None),\n",
    "    tooltip=['Manufacturer', 'percentage' if normalize else 'price']\n",
    ").properties(\n",
    "    width=600,\n",
    "    height=400,\n",
    "    title=f\"Price Distribution Comparison Between {manufacturer1} and {manufacturer2}\"\n",
    ")\n",
    "\n",
    "# Show the chart\n",
    "st.altair_chart(chart, use_container_width=True)"
   ]
  },
  {
   "cell_type": "markdown",
   "metadata": {},
   "source": [
    "## Streamlit Data Exploration and Visualization:\n",
    "This section harnesses the power of Streamlit to facilitate an interactive exploration and visualization of the dataset. It initiates by enabling users to filter the data based on the number of advertisements per manufacturer, enhancing flexibility in data analysis. \n"
   ]
  },
  {
   "cell_type": "markdown",
   "metadata": {},
   "source": [
    "## Conclusion\n",
    "   The findings from this project offer valuable insights that can be utilized in various ways:\n",
    "   Market Analysis, Product Developement, Competitive Analysis, Business ,and Customer insights.\n",
    "\n",
    "   Overall, the findings from this project offer actionable insights that can drive strategic decision-making across various aspects of the automotive industry, ultimately leading to improved business performance and customer satisfaction."
   ]
  }
 ],
 "metadata": {
  "kernelspec": {
   "display_name": "my_venv",
   "language": "python",
   "name": "python3"
  },
  "language_info": {
   "codemirror_mode": {
    "name": "ipython",
    "version": 3
   },
   "file_extension": ".py",
   "mimetype": "text/x-python",
   "name": "python",
   "nbconvert_exporter": "python",
   "pygments_lexer": "ipython3",
   "version": "3.12.3"
  }
 },
 "nbformat": 4,
 "nbformat_minor": 2
}
